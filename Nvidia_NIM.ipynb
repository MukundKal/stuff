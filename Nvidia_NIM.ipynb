{
  "nbformat": 4,
  "nbformat_minor": 0,
  "metadata": {
    "colab": {
      "provenance": [],
      "include_colab_link": true
    },
    "kernelspec": {
      "name": "python3",
      "display_name": "Python 3"
    },
    "language_info": {
      "name": "python"
    }
  },
  "cells": [
    {
      "cell_type": "markdown",
      "metadata": {
        "id": "view-in-github",
        "colab_type": "text"
      },
      "source": [
        "<a href=\"https://colab.research.google.com/github/MukundKal/stuff/blob/main/Nvidia_NIM.ipynb\" target=\"_parent\"><img src=\"https://colab.research.google.com/assets/colab-badge.svg\" alt=\"Open In Colab\"/></a>"
      ]
    },
    {
      "cell_type": "code",
      "execution_count": null,
      "metadata": {
        "colab": {
          "base_uri": "https://localhost:8080/"
        },
        "id": "5TQGmorFc-BI",
        "outputId": "c0a8dd94-364c-4e2c-9cc9-8a87b63e9351"
      },
      "outputs": [
        {
          "output_type": "stream",
          "name": "stdout",
          "text": [
            "\u001b[2K     \u001b[90m━━━━━━━━━━━━━━━━━━━━━━━━━━━━━━━━━━━━━━━━\u001b[0m \u001b[32m324.1/324.1 kB\u001b[0m \u001b[31m4.5 MB/s\u001b[0m eta \u001b[36m0:00:00\u001b[0m\n",
            "\u001b[2K     \u001b[90m━━━━━━━━━━━━━━━━━━━━━━━━━━━━━━━━━━━━━━━━\u001b[0m \u001b[32m75.6/75.6 kB\u001b[0m \u001b[31m4.4 MB/s\u001b[0m eta \u001b[36m0:00:00\u001b[0m\n",
            "\u001b[2K     \u001b[90m━━━━━━━━━━━━━━━━━━━━━━━━━━━━━━━━━━━━━━━━\u001b[0m \u001b[32m77.9/77.9 kB\u001b[0m \u001b[31m3.1 MB/s\u001b[0m eta \u001b[36m0:00:00\u001b[0m\n",
            "\u001b[2K     \u001b[90m━━━━━━━━━━━━━━━━━━━━━━━━━━━━━━━━━━━━━━━━\u001b[0m \u001b[32m58.3/58.3 kB\u001b[0m \u001b[31m4.1 MB/s\u001b[0m eta \u001b[36m0:00:00\u001b[0m\n",
            "\u001b[?25h"
          ]
        }
      ],
      "source": [
        "!pip install -q openai"
      ]
    },
    {
      "cell_type": "code",
      "source": [
        "from openai import OpenAI\n",
        "from google.colab import userdata\n"
      ],
      "metadata": {
        "id": "HJb6frdTdBEP"
      },
      "execution_count": null,
      "outputs": []
    },
    {
      "cell_type": "code",
      "source": [
        "\n",
        "client = OpenAI(\n",
        "  base_url = \"https://integrate.api.nvidia.com/v1\",\n",
        "  api_key = userdata.get('NVIDIA_NIM')\n",
        ")\n",
        "\n"
      ],
      "metadata": {
        "id": "5W3Hq7LndBJ-"
      },
      "execution_count": null,
      "outputs": []
    },
    {
      "cell_type": "code",
      "source": [
        "completion = client.chat.completions.create(\n",
        "  model=\"meta/llama3-8b-instruct\",\n",
        "  messages=[{\"role\":\"user\",\"content\":\"What is the purpose of life\"}],\n",
        "  temperature=0.5,\n",
        "  top_p=1,\n",
        "  max_tokens=1024,\n",
        "  stream=True\n",
        ")\n",
        "\n",
        "for chunk in completion:\n",
        "  if chunk.choices[0].delta.content is not None:\n",
        "    print(chunk.choices[0].delta.content, end=\"\")"
      ],
      "metadata": {
        "colab": {
          "base_uri": "https://localhost:8080/"
        },
        "id": "2m9njB86dBQ4",
        "outputId": "892cdbd3-cb25-498c-ef31-9c04dacd6c76"
      },
      "execution_count": null,
      "outputs": [
        {
          "output_type": "stream",
          "name": "stdout",
          "text": [
            "The purpose of life is a question that has puzzled philosophers, scientists, and individuals for centuries. While there may not be a single definitive answer, here are some perspectives and theories that can help shed light on this profound question:\n",
            "\n",
            "1. **Existentialism**: According to existentialist philosophy, life has no inherent purpose or meaning. It is up to each individual to create their own purpose and meaning in life. This perspective emphasizes personal freedom and responsibility.\n",
            "2. **Evolutionary perspective**: From a biological perspective, the purpose of life is to survive and reproduce. This drives the evolution of species and ensures the continuation of life on Earth.\n",
            "3. **Spiritual or religious perspectives**: Many religious and spiritual traditions believe that the purpose of life is to fulfill a divine plan or to achieve spiritual enlightenment. This may involve serving a higher power, following a set of moral principles, or achieving a state of inner peace and harmony.\n",
            "4. **Humanistic perspective**: Humanistic psychology suggests that the purpose of life is to achieve self-actualization, which means becoming the best version of oneself. This involves pursuing personal growth, developing one's talents and abilities, and contributing to society in meaningful ways.\n",
            "5. **Psychological perspective**: From a psychological perspective, the purpose of life is to find fulfillment, happiness, and a sense of purpose. This may involve finding a balance between personal and professional life, building strong relationships, and pursuing activities that bring joy and satisfaction.\n",
            "6. **Social and cultural perspectives**: The purpose of life can also be shaped by social and cultural factors. For example, in some cultures, the purpose of life is to respect and honor one's ancestors, while in others, it may be to contribute to the greater good of society.\n",
            "7. **Cosmic perspective**: Some people believe that the purpose of life is to understand the universe and our place within it. This may involve exploring the mysteries of the cosmos, seeking answers to existence, and finding meaning in the vastness of the universe.\n",
            "\n",
            "Ultimately, the purpose of life is a deeply personal and subjective question that each individual must answer for themselves. It may involve a combination of these perspectives or something entirely unique to each person's experiences and values.\n",
            "\n",
            "Some questions to consider when reflecting on the purpose of life:\n",
            "\n",
            "* What brings you joy and fulfillment?\n",
            "* What are your values and priorities?\n",
            "* What do you want to achieve in your life?\n",
            "* How do you want to make a positive impact on the world?\n",
            "* What kind of legacy do you want to leave behind?\n",
            "\n",
            "Remember that the purpose of life is not a fixed or definitive answer, but rather a personal and ongoing journey of discovery and growth."
          ]
        }
      ]
    },
    {
      "cell_type": "code",
      "source": [],
      "metadata": {
        "id": "xbSnIC3jdhPU"
      },
      "execution_count": null,
      "outputs": []
    }
  ]
}